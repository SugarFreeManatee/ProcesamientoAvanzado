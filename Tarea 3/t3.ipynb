{
 "cells": [
  {
   "cell_type": "code",
   "execution_count": 1,
   "metadata": {},
   "outputs": [],
   "source": [
    "import numpy as np\n",
    "import tifffile\n",
    "import matplotlib.pyplot as plt\n",
    "import cv2\n",
    "import math\n",
    "from tqdm import tqdm\n",
    "from skimage.transform import resize\n",
    "from scipy.interpolate import interpn\n",
    "from scipy.ndimage import convolve, gaussian_gradient_magnitude, gaussian_laplace, maximum_filter, prewitt, sobel, median_filter, fourier_gaussian, gaussian_filter\n",
    "from scipy.cluster.vq import kmeans2\n",
    "import pickle as pkl\n",
    "import time\n",
    "from skfuzzy import cmeans\n",
    "from skimage import feature\n",
    "from fcmeans import FCM"
   ]
  },
  {
   "cell_type": "code",
   "execution_count": 2,
   "metadata": {},
   "outputs": [],
   "source": [
    "img = np.rollaxis(np.array(tifffile.imread('Low concentration 1.tiff')), 0, 3)"
   ]
  },
  {
   "cell_type": "code",
   "execution_count": 3,
   "metadata": {},
   "outputs": [],
   "source": [
    "def preprocess(img, n):\n",
    "    N = math.floor(0.25 * img.shape[2] / (0.12*n))\n",
    "    new_img = np.zeros((img.shape[0], img.shape[1], N))\n",
    "    current = 0\n",
    "    for k in range(N):\n",
    "        interp = round(current/0.25)\n",
    "        new_img[:,:,k] = img[:,:,interp]\n",
    "        current += 0.12\n",
    "    \n",
    "    new_img = resize(new_img, (new_img.shape[0]//n,new_img.shape[1]//n,N))\n",
    "    return new_img\n",
    "\n",
    "def rotation_matrix(a, b, g, x_t, y_t, z_t):\n",
    "    A = np.array([[np.cos(a)*np.cos(b), np.cos(a)*np.sin(b)*np.sin(g)-np.sin(a)*np.cos(g),np.cos(a)*np.sin(b)*np.cos(g)+np.sin(a)*np.sin(g), x_t],\n",
    "                [np.sin(a)*np.cos(b), np.sin(a)*np.sin(b)*np.sin(g)+np.cos(a)*np.cos(g),np.sin(a)*np.sin(b)*np.cos(g)-np.cos(a)*np.sin(g), y_t],\n",
    "                [-np.sin(b), np.cos(b)*np.sin(g), np.cos(b)*np.cos(g), z_t],\n",
    "                [0, 0, 0, 1]])\n",
    "    return np.linalg.inv(A)\n",
    "\n",
    "def single_rotated_plane(img, a, b, g, x_t, y_t, z_t, interpolation = 'nearest', load = False, height = 0):\n",
    "    rot = rotation_matrix(a, b, g, x_t, y_t, z_t)\n",
    "\n",
    "    count = 0\n",
    "    p_x, p_y, p_z = img.shape[0]//2, img.shape[1]//2, img.shape[2]//2\n",
    "    \n",
    "    if not load:\n",
    "        indices = np.zeros((4, img.shape[0]*img.shape[1]), dtype=np.float16)\n",
    "        for i in tqdm(range(img.shape[0])):\n",
    "            for j in range(img.shape[1]):\n",
    "                indices[:, count] = [i-p_x, j-p_y, height-p_z, 1]\n",
    "                count += 1\n",
    "        with open('indices.pkl', 'wb') as file:\n",
    "            pkl.dump(indices, file)\n",
    "    else:\n",
    "        with open('indices.pkl', 'rb') as file:\n",
    "            indices = pkl.load(file)\n",
    "    indices = rot @ indices\n",
    "    indices = indices + np.array([[p_x, p_y, p_z, 0]]).T\n",
    "    indices = indices.T[:, 0:3]\n",
    "    start_time = time.time()\n",
    "    A = interpn((np.arange(img.shape[0]),np.arange(img.shape[1]),np.arange(img.shape[2])), img, indices, \n",
    "    method= interpolation, bounds_error=False, fill_value=0).reshape(img.shape[0:2])\n",
    "    return A, time.time() - start_time\n",
    "def MIP(img, a, b, g, x_t, y_t, z_t, interpolation = 'nearest'):\n",
    "    rot = rotation_matrix(a, b, g, x_t, y_t, z_t)\n",
    "    new_img = np.zeros((img.shape[0], img.shape[1]))\n",
    "    count = 0\n",
    "    p_x, p_y, p_z = img.shape[0]//2, img.shape[1]//2, img.shape[2]//2\n",
    "    \n",
    "    indices1 = np.zeros((4, img.shape[0]*img.shape[1]), dtype=np.float16)\n",
    "    for i in range(img.shape[0]):\n",
    "        for j in range(img.shape[1]):\n",
    "            indices1[:, count] = [i-p_x, j-p_y, -p_z-1, 1]\n",
    "            count += 1\n",
    "    start_time = time.time()\n",
    "    while indices1[2,0] < img.shape[2]:\n",
    "        indices1[2,:] += 1\n",
    "        indices = rot @ indices1\n",
    "        indices = indices + np.array([[p_x, p_y, p_z, 0]]).T\n",
    "        indices = indices.T[:, 0:3]\n",
    "        A = interpn((np.arange(img.shape[0]),np.arange(img.shape[1]),np.arange(img.shape[2])), img, indices, \n",
    "        method = interpolation, bounds_error=False, fill_value=0).reshape(new_img.shape)\n",
    "        new_img = np.maximum(new_img, A)\n",
    "    return new_img, time.time() - start_time\n",
    "\n",
    "def proj_sum(img, a, b, g, x_t, y_t, z_t, interpolation = 'nearest', load = True):\n",
    "    rot = rotation_matrix(a, b, g, x_t, y_t, z_t)\n",
    "    new_img = np.zeros((img.shape[0], img.shape[1]))\n",
    "    count = 0\n",
    "    p_x, p_y, p_z = img.shape[0]//2, img.shape[1]//2, img.shape[2]//2\n",
    "    \n",
    "    indices1 = np.zeros((4, img.shape[0]*img.shape[1]), dtype=np.float16)\n",
    "    for i in range(img.shape[0]):\n",
    "        for j in range(img.shape[1]):\n",
    "            indices1[:, count] = [i-p_x, j-p_y, -p_z-1, 1]\n",
    "            count += 1\n",
    "    start_time = time.time()\n",
    "    while indices1[2,0] < img.shape[2]:\n",
    "        indices1[2,:] += 1\n",
    "        indices = rot @ indices1\n",
    "        indices = indices + np.array([[p_x, p_y, p_z, 0]]).T\n",
    "        indices = indices.T[:, 0:3]\n",
    "        A = interpn((np.arange(img.shape[0]),np.arange(img.shape[1]),np.arange(img.shape[2])), img, indices, \n",
    "        method = interpolation, bounds_error=False, fill_value=0).reshape(new_img.shape)\n",
    "        new_img = np.add(new_img, A)\n",
    "    return new_img, time.time() - start_time"
   ]
  },
  {
   "cell_type": "code",
   "execution_count": 4,
   "metadata": {},
   "outputs": [
    {
     "name": "stdout",
     "output_type": "stream",
     "text": [
      "(764, 794, 49)\n"
     ]
    }
   ],
   "source": [
    "print(img.shape)"
   ]
  },
  {
   "cell_type": "code",
   "execution_count": 5,
   "metadata": {},
   "outputs": [],
   "source": [
    "img = preprocess(img, 1)\n",
    "a = 1.9\n",
    "b = 10"
   ]
  },
  {
   "cell_type": "code",
   "execution_count": 6,
   "metadata": {},
   "outputs": [],
   "source": [
    "def feature_extraction_and_pseudo_canny(img, k):\n",
    "    features = np.float32(np.zeros((img.shape[0], img.shape[1], img.shape[2], 3)))\n",
    "    img = gaussian_filter(img, sigma=1.4, radius=5)\n",
    "    features[:,:,:,0] = sobel(img, axis=0, mode='constant')\n",
    "    features[:,:,:,1] = sobel(img, axis=1, mode='constant')\n",
    "    features[:,:,:,2] = sobel(img, axis=2, mode='constant')\n",
    "\n",
    "\n",
    "    # # https://cierra-andaur.medium.com/using-k-means-clustering-for-image-segmentation-fe86c3b39bf4\n",
    "    # features = np.float32(np.reshape(features, (img.shape[0]*img.shape[1]*img.shape[2], features.shape[3])))\n",
    "    # _, labels = kmeans2(features, k, minit='points')\n",
    "    # labels = np.reshape(labels, (img.shape[0], img.shape[1], img.shape[2]))\n",
    "    labels = np.sqrt(np.square(features[:,:,:,0]) + np.square(features[:,:,:,1]) + np.square(features[:,:,:,2]))\n",
    "    labels = np.int8((labels/np.max(labels)) * 255)\n",
    "    return labels\n",
    "\n"
   ]
  },
  {
   "cell_type": "code",
   "execution_count": 7,
   "metadata": {},
   "outputs": [],
   "source": [
    "# # https://www.sciencedirect.com/science/article/pii/S1877050918313474?via%3Dihub\n",
    "# # https://stackoverflow.com/questions/11267994/3d-sobel-algorithm-in-python\n",
    "# def feature_extraction_and_cmeans(img, k):\n",
    "#     x,y,z = img.shape\n",
    "#     img = median_filter(img, size=3)\n",
    "#     img = img.reshape((x*y*z, 1))\n",
    "#     # fcm = FCM(n_clusters=k)\n",
    "#     # fcm.fit(img)\n",
    "#     # img = fcm.predict(img)\n",
    "#     # del fcm\n",
    "#     img = kmeans2(img, k, minit='points')[1]\n",
    "#     img = np.reshape(img, (x, y, z))\n",
    "#     new_img = np.zeros((x, y, z))\n",
    "#     for i in range(3):\n",
    "#         print(i)\n",
    "#         new_img = new_img + sobel(img, mode='constant', axis=i)**2\n",
    "\n",
    "#     return np.sqrt(img)"
   ]
  },
  {
   "cell_type": "code",
   "execution_count": 8,
   "metadata": {},
   "outputs": [],
   "source": [
    "# feat = feature_extraction_and_kmeans(img, 2)\n",
    "# feat = feature_extraction_and_cmeans(img, 2)"
   ]
  },
  {
   "cell_type": "code",
   "execution_count": 9,
   "metadata": {},
   "outputs": [],
   "source": [
    "feat = feature_extraction_and_pseudo_canny(img, 2)\n"
   ]
  },
  {
   "cell_type": "code",
   "execution_count": 10,
   "metadata": {},
   "outputs": [
    {
     "name": "stderr",
     "output_type": "stream",
     "text": [
      "100%|██████████| 764/764 [00:00<00:00, 1094.32it/s]\n",
      "100%|██████████| 764/764 [00:01<00:00, 580.65it/s]\n"
     ]
    }
   ],
   "source": [
    "curr = single_rotated_plane(img, 1.9*math.pi, 0, 1.9*math.pi, 0, 0, 10, interpolation = 'linear')[0]\n",
    "curr_f = single_rotated_plane(feat, 1.9*math.pi, 0, 1.9*math.pi, 0, 0, 10, interpolation = 'linear')[0]"
   ]
  },
  {
   "cell_type": "code",
   "execution_count": 11,
   "metadata": {},
   "outputs": [
    {
     "name": "stderr",
     "output_type": "stream",
     "text": [
      "  0%|          | 2/764 [00:00<00:02, 268.89it/s]\n"
     ]
    },
    {
     "ename": "KeyboardInterrupt",
     "evalue": "",
     "output_type": "error",
     "traceback": [
      "\u001b[0;31m---------------------------------------------------------------------------\u001b[0m",
      "\u001b[0;31mKeyboardInterrupt\u001b[0m                         Traceback (most recent call last)",
      "\u001b[0;32m/tmp/ipykernel_85344/2504343153.py\u001b[0m in \u001b[0;36m<module>\u001b[0;34m\u001b[0m\n\u001b[1;32m      1\u001b[0m \u001b[0mfig\u001b[0m\u001b[0;34m,\u001b[0m \u001b[0;34m(\u001b[0m\u001b[0;34m(\u001b[0m\u001b[0max1\u001b[0m\u001b[0;34m,\u001b[0m \u001b[0max2\u001b[0m\u001b[0;34m)\u001b[0m\u001b[0;34m,\u001b[0m \u001b[0;34m(\u001b[0m\u001b[0max3\u001b[0m\u001b[0;34m,\u001b[0m \u001b[0max4\u001b[0m\u001b[0;34m)\u001b[0m\u001b[0;34m)\u001b[0m \u001b[0;34m=\u001b[0m \u001b[0mplt\u001b[0m\u001b[0;34m.\u001b[0m\u001b[0msubplots\u001b[0m\u001b[0;34m(\u001b[0m\u001b[0;36m2\u001b[0m\u001b[0;34m,\u001b[0m \u001b[0;36m2\u001b[0m\u001b[0;34m)\u001b[0m\u001b[0;34m\u001b[0m\u001b[0;34m\u001b[0m\u001b[0m\n\u001b[1;32m      2\u001b[0m \u001b[0mfig\u001b[0m\u001b[0;34m.\u001b[0m\u001b[0mset_size_inches\u001b[0m\u001b[0;34m(\u001b[0m\u001b[0;36m20\u001b[0m\u001b[0;34m,\u001b[0m \u001b[0;36m20\u001b[0m\u001b[0;34m)\u001b[0m\u001b[0;34m\u001b[0m\u001b[0;34m\u001b[0m\u001b[0m\n\u001b[0;32m----> 3\u001b[0;31m \u001b[0mcurr\u001b[0m \u001b[0;34m=\u001b[0m \u001b[0msingle_rotated_plane\u001b[0m\u001b[0;34m(\u001b[0m\u001b[0mimg\u001b[0m\u001b[0;34m,\u001b[0m \u001b[0mmath\u001b[0m\u001b[0;34m.\u001b[0m\u001b[0mpi\u001b[0m\u001b[0;34m*\u001b[0m\u001b[0ma\u001b[0m\u001b[0;34m,\u001b[0m \u001b[0mmath\u001b[0m\u001b[0;34m.\u001b[0m\u001b[0mpi\u001b[0m\u001b[0;34m*\u001b[0m\u001b[0ma\u001b[0m\u001b[0;34m,\u001b[0m \u001b[0;36m0\u001b[0m\u001b[0;34m,\u001b[0m \u001b[0;36m0\u001b[0m\u001b[0;34m,\u001b[0m \u001b[0;36m0\u001b[0m\u001b[0;34m,\u001b[0m \u001b[0mmath\u001b[0m\u001b[0;34m.\u001b[0m\u001b[0mpi\u001b[0m\u001b[0;34m*\u001b[0m\u001b[0ma\u001b[0m\u001b[0;34m,\u001b[0m \u001b[0minterpolation\u001b[0m \u001b[0;34m=\u001b[0m \u001b[0;34m'linear'\u001b[0m\u001b[0;34m,\u001b[0m \u001b[0mload\u001b[0m \u001b[0;34m=\u001b[0m \u001b[0;32mFalse\u001b[0m\u001b[0;34m)\u001b[0m\u001b[0;34m[\u001b[0m\u001b[0;36m0\u001b[0m\u001b[0;34m]\u001b[0m\u001b[0;34m\u001b[0m\u001b[0;34m\u001b[0m\u001b[0m\n\u001b[0m\u001b[1;32m      4\u001b[0m \u001b[0max1\u001b[0m\u001b[0;34m.\u001b[0m\u001b[0mimshow\u001b[0m\u001b[0;34m(\u001b[0m\u001b[0mcurr\u001b[0m\u001b[0;34m,\u001b[0m \u001b[0mcmap\u001b[0m \u001b[0;34m=\u001b[0m \u001b[0;34m'gray'\u001b[0m\u001b[0;34m)\u001b[0m\u001b[0;34m\u001b[0m\u001b[0;34m\u001b[0m\u001b[0m\n\u001b[1;32m      5\u001b[0m \u001b[0max2\u001b[0m\u001b[0;34m.\u001b[0m\u001b[0mimshow\u001b[0m\u001b[0;34m(\u001b[0m\u001b[0mgaussian_gradient_magnitude\u001b[0m\u001b[0;34m(\u001b[0m\u001b[0mcurr\u001b[0m\u001b[0;34m,\u001b[0m \u001b[0msigma\u001b[0m \u001b[0;34m=\u001b[0m \u001b[0;36m1\u001b[0m\u001b[0;34m)\u001b[0m\u001b[0;34m,\u001b[0m \u001b[0mcmap\u001b[0m \u001b[0;34m=\u001b[0m \u001b[0;34m'gray'\u001b[0m\u001b[0;34m)\u001b[0m\u001b[0;34m\u001b[0m\u001b[0;34m\u001b[0m\u001b[0m\n",
      "\u001b[0;32m/tmp/ipykernel_85344/3891789156.py\u001b[0m in \u001b[0;36msingle_rotated_plane\u001b[0;34m(img, a, b, g, x_t, y_t, z_t, interpolation, load, height)\u001b[0m\n\u001b[1;32m     28\u001b[0m         \u001b[0;32mfor\u001b[0m \u001b[0mi\u001b[0m \u001b[0;32min\u001b[0m \u001b[0mtqdm\u001b[0m\u001b[0;34m(\u001b[0m\u001b[0mrange\u001b[0m\u001b[0;34m(\u001b[0m\u001b[0mimg\u001b[0m\u001b[0;34m.\u001b[0m\u001b[0mshape\u001b[0m\u001b[0;34m[\u001b[0m\u001b[0;36m0\u001b[0m\u001b[0;34m]\u001b[0m\u001b[0;34m)\u001b[0m\u001b[0;34m)\u001b[0m\u001b[0;34m:\u001b[0m\u001b[0;34m\u001b[0m\u001b[0;34m\u001b[0m\u001b[0m\n\u001b[1;32m     29\u001b[0m             \u001b[0;32mfor\u001b[0m \u001b[0mj\u001b[0m \u001b[0;32min\u001b[0m \u001b[0mrange\u001b[0m\u001b[0;34m(\u001b[0m\u001b[0mimg\u001b[0m\u001b[0;34m.\u001b[0m\u001b[0mshape\u001b[0m\u001b[0;34m[\u001b[0m\u001b[0;36m1\u001b[0m\u001b[0;34m]\u001b[0m\u001b[0;34m)\u001b[0m\u001b[0;34m:\u001b[0m\u001b[0;34m\u001b[0m\u001b[0;34m\u001b[0m\u001b[0m\n\u001b[0;32m---> 30\u001b[0;31m                 \u001b[0mindices\u001b[0m\u001b[0;34m[\u001b[0m\u001b[0;34m:\u001b[0m\u001b[0;34m,\u001b[0m \u001b[0mcount\u001b[0m\u001b[0;34m]\u001b[0m \u001b[0;34m=\u001b[0m \u001b[0;34m[\u001b[0m\u001b[0mi\u001b[0m\u001b[0;34m-\u001b[0m\u001b[0mp_x\u001b[0m\u001b[0;34m,\u001b[0m \u001b[0mj\u001b[0m\u001b[0;34m-\u001b[0m\u001b[0mp_y\u001b[0m\u001b[0;34m,\u001b[0m \u001b[0mheight\u001b[0m\u001b[0;34m-\u001b[0m\u001b[0mp_z\u001b[0m\u001b[0;34m,\u001b[0m \u001b[0;36m1\u001b[0m\u001b[0;34m]\u001b[0m\u001b[0;34m\u001b[0m\u001b[0;34m\u001b[0m\u001b[0m\n\u001b[0m\u001b[1;32m     31\u001b[0m                 \u001b[0mcount\u001b[0m \u001b[0;34m+=\u001b[0m \u001b[0;36m1\u001b[0m\u001b[0;34m\u001b[0m\u001b[0;34m\u001b[0m\u001b[0m\n\u001b[1;32m     32\u001b[0m         \u001b[0;32mwith\u001b[0m \u001b[0mopen\u001b[0m\u001b[0;34m(\u001b[0m\u001b[0;34m'indices.pkl'\u001b[0m\u001b[0;34m,\u001b[0m \u001b[0;34m'wb'\u001b[0m\u001b[0;34m)\u001b[0m \u001b[0;32mas\u001b[0m \u001b[0mfile\u001b[0m\u001b[0;34m:\u001b[0m\u001b[0;34m\u001b[0m\u001b[0;34m\u001b[0m\u001b[0m\n",
      "\u001b[0;31mKeyboardInterrupt\u001b[0m: "
     ]
    },
    {
     "data": {
      "image/png": "[encoded data removed]",
      "text/plain": [
       "<Figure size 1440x1440 with 4 Axes>"
      ]
     },
     "metadata": {
      "needs_background": "light"
     },
     "output_type": "display_data"
    }
   ],
   "source": [
    "fig, ((ax1, ax2), (ax3, ax4)) = plt.subplots(2, 2)\n",
    "fig.set_size_inches(20, 20)\n",
    "curr = single_rotated_plane(img, math.pi*a, math.pi*a, 0, 0, 0, math.pi*a, interpolation = 'linear', load = False)[0]\n",
    "ax1.imshow(curr, cmap = 'gray')\n",
    "ax2.imshow(gaussian_gradient_magnitude(curr, sigma = 1), cmap = 'gray')\n",
    "ax3.imshow(gaussian_laplace(curr, sigma = 1), cmap = 'gray')\n",
    "ax4.imshow(gaussian_gradient_magnitude(curr, sigma = 2), cmap = 'gray')"
   ]
  },
  {
   "cell_type": "code",
   "execution_count": null,
   "metadata": {},
   "outputs": [],
   "source": [
    "fig, ((ax1, ax2), (ax3, ax4)) = plt.subplots(2, 2)\n",
    "fig.set_size_inches(20, 20)\n",
    "curr = single_rotated_plane(img, 1.9*math.pi, 0, 1.9*math.pi, 0, 0, 10, interpolation = 'linear')[0]\n",
    "ax1.imshow(curr, cmap = 'gray')\n",
    "ax2.imshow(fourier_gaussian(curr, sigma=0.5), cmap = 'gray')\n",
    "ax3.imshow(np.abs(sobel(fourier_gaussian(curr, sigma=0.5))) < 100, cmap = 'gray')\n",
    "ax4.imshow(median_filter(curr, size = 3), cmap = 'gray')"
   ]
  },
  {
   "cell_type": "code",
   "execution_count": 12,
   "metadata": {},
   "outputs": [
    {
     "data": {
      "text/plain": [
       "<matplotlib.image.AxesImage at 0x7fd415454c70>"
      ]
     },
     "execution_count": 12,
     "metadata": {},
     "output_type": "execute_result"
    },
    {
     "data": {
      "image/png": "[encoded data removed]",
      "text/plain": [
       "<Figure size 1440x720 with 2 Axes>"
      ]
     },
     "metadata": {
      "needs_background": "light"
     },
     "output_type": "display_data"
    }
   ],
   "source": [
    "fig, (ax1, ax2) = plt.subplots(1, 2)\n",
    "fig.set_size_inches(20, 10)\n",
    "ax1.imshow(curr_f, cmap = 'gray')\n",
    "ax2.imshow(curr, cmap = 'gray')"
   ]
  },
  {
   "cell_type": "code",
   "execution_count": null,
   "metadata": {},
   "outputs": [],
   "source": [
    "fig, (ax1, ax2) = plt.subplots(1, 2)\n",
    "fig.set_size_inches(20, 10)\n",
    "ax1.imshow(np.abs(sobel(gaussian_gradient_magnitude(curr, sigma = 0.5))) > 50, cmap = 'gray')\n",
    "ax2.imshow(curr)"
   ]
  },
  {
   "cell_type": "code",
   "execution_count": null,
   "metadata": {},
   "outputs": [],
   "source": [
    "def canny(img, sigma, size = 5):\n",
    "    img = gaussian_filter(img, sigma, radius = size)\n",
    "    x = sobel(img, axis = 0)\n",
    "    y = sobel(img, axis = 1)\n",
    "    z = sobel(img, axis = 2)\n",
    "    s = np.sqrt(x**2 + y**2 + z**2)\n",
    "    x_y = np.arctan2(y, x)\n",
    "    x_z = np.arctan2(z, x)\n",
    "    y_z = np.arctan2(z, y)\n",
    "\n",
    "    return s, o\n",
    "\n",
    "# https://towardsdatascience.com/canny-edge-detection-step-by-step-in-python-computer-vision-b49c3a2d8123\n",
    "def non_max_suppression3d(img, x_y, x_z, y_z):\n",
    "    M, N, Z = img.shape\n",
    "    A = np.zeros((M,N,Z), dtype=np.int32)\n",
    "    angle = D * 180. / np.pi\n",
    "    angle[angle < 0] += 180\n",
    "\n",
    "    \n",
    "    for i in range(1,M-1):\n",
    "        for j in range(1,N-1):\n",
    "            try:\n",
    "                q = 255\n",
    "                r = 255\n",
    "                \n",
    "               #angle 0\n",
    "                if (0 <= angle[i,j] < 22.5) or (157.5 <= angle[i,j] <= 180):\n",
    "                    q = img[i, j+1]\n",
    "                    r = img[i, j-1]\n",
    "                #angle 45\n",
    "                elif (22.5 <= angle[i,j] < 67.5):\n",
    "                    q = img[i+1, j-1]\n",
    "                    r = img[i-1, j+1]\n",
    "                #angle 90\n",
    "                elif (67.5 <= angle[i,j] < 112.5):\n",
    "                    q = img[i+1, j]\n",
    "                    r = img[i-1, j]\n",
    "                #angle 135\n",
    "                elif (112.5 <= angle[i,j] < 157.5):\n",
    "                    q = img[i-1, j-1]\n",
    "                    r = img[i+1, j+1]\n",
    "\n",
    "                if (img[i,j] >= q) and (img[i,j] >= r):\n",
    "                    Z[i,j] = img[i,j]\n",
    "                else:\n",
    "                    Z[i,j] = 0\n",
    "\n",
    "            except IndexError as e:\n",
    "                pass\n",
    "    \n",
    "    return Z\n"
   ]
  },
  {
   "cell_type": "code",
   "execution_count": null,
   "metadata": {},
   "outputs": [
    {
     "name": "stdout",
     "output_type": "stream",
     "text": [
      "40.59405245967163\n",
      "606616\n"
     ]
    },
    {
     "data": {
      "image/png": "[encoded data removed]",
      "text/plain": [
       "<Figure size 432x288 with 1 Axes>"
      ]
     },
     "metadata": {
      "needs_background": "light"
     },
     "output_type": "display_data"
    }
   ],
   "source": [
    "plt.plot(np.abs(sobel(gaussian_filter(curr, sigma = 1)).flatten()))\n",
    "print(np.mean(np.abs(sobel(curr).flatten())))\n",
    "print(len(curr.flatten()))"
   ]
  },
  {
   "cell_type": "code",
   "execution_count": null,
   "metadata": {},
   "outputs": [
    {
     "data": {
      "text/plain": [
       "[<matplotlib.lines.Line2D at 0x7f7aa46cb220>]"
      ]
     },
     "execution_count": 26,
     "metadata": {},
     "output_type": "execute_result"
    },
    {
     "data": {
      "image/png": "[encoded data removed]",
      "text/plain": [
       "<Figure size 432x288 with 1 Axes>"
      ]
     },
     "metadata": {
      "needs_background": "light"
     },
     "output_type": "display_data"
    }
   ],
   "source": [
    "plt.plot(np.abs(sobel(curr).flatten()))"
   ]
  },
  {
   "cell_type": "code",
   "execution_count": null,
   "metadata": {},
   "outputs": [],
   "source": []
  },
  {
   "cell_type": "code",
   "execution_count": null,
   "metadata": {},
   "outputs": [],
   "source": [
    "fig, ((ax1, ax2), (ax3, ax4)) = plt.subplots(2, 2)\n",
    "fig.set_size_inches(20, 20)\n",
    "curr = single_rotated_plane(img, a*math.pi, 0, a*math.pi, 0, 0, 10, interpolation = 'linear')[0]\n",
    "ax1.imshow(curr, cmap = 'gray')\n",
    "ax2.imshow(prewitt(curr), cmap = 'gray')\n",
    "ax3.imshow(sobel(curr), cmap = 'gray')\n",
    "ax4.imshow(median_filter(curr, size = 3), cmap = 'gray')"
   ]
  },
  {
   "cell_type": "code",
   "execution_count": null,
   "metadata": {},
   "outputs": [],
   "source": [
    "# for i in range(0, img.shape[2], 10 ):\n",
    "#     plt.imshow(single_rotated_plane(img, 0, 0, 0.5, 0, 0,i, interpolation = 'linear', load = True)[0], cmap = 'gray')\n",
    "#     plt.show()"
   ]
  },
  {
   "cell_type": "code",
   "execution_count": null,
   "metadata": {},
   "outputs": [],
   "source": [
    "\n",
    "# plt.imshow(MIP(img,0, 0, 0.5, 0, 0, 0, interpolation = 'linear')[0], cmap = 'gray')\n",
    "# plt.show()"
   ]
  },
  {
   "cell_type": "code",
   "execution_count": null,
   "metadata": {},
   "outputs": [],
   "source": [
    "fig, ((ax1, ax2), (ax3, ax4)) = plt.subplots(2, 2)\n",
    "axs = [ax1, ax2, ax3, ax4]\n",
    "fig.set_size_inches(20, 20)\n",
    "for i in range(3):\n",
    "    axs[i].imshow(single_rotated_plane(feat, 1.9*math.pi, 0, 1.9*math.pi, 0, 0, 10, interpolation = 'linear')[0] == i, cmap = 'gray')\n",
    "axs[3].imshow(single_rotated_plane(img, 1.9*math.pi, 0, 1.9*math.pi, 0, 0, 10, interpolation = 'linear')[0], cmap = 'gray')"
   ]
  },
  {
   "cell_type": "code",
   "execution_count": null,
   "metadata": {},
   "outputs": [],
   "source": [
    "fig, ax  = plt.subplots()\n",
    "fig.set_size_inches(20, 20)\n",
    "ax.imshow(single_rotated_plane(feat, a*math.pi, 0, a*math.pi, 0, 0, 10, interpolation = 'linear')[0], cmap = 'gray')\n",
    "plt.show()"
   ]
  },
  {
   "cell_type": "code",
   "execution_count": null,
   "metadata": {},
   "outputs": [],
   "source": []
  },
  {
   "cell_type": "code",
   "execution_count": null,
   "metadata": {},
   "outputs": [],
   "source": [
    "# for i in range(100):\n",
    "#     plt.imsave('imgs/' + str(i)+'seg'+'.png', single_rotated_plane(feat, 0, 0, 0.5, 0, 0, i, interpolation = 'linear', load = True)[0], cmap = 'gray')\n",
    "\n",
    "\n",
    "\n"
   ]
  },
  {
   "cell_type": "code",
   "execution_count": null,
   "metadata": {},
   "outputs": [],
   "source": [
    "a = 0\n",
    "for i in range(0, 25):\n",
    "    print(a)\n",
    "    print(i)\n",
    "    plt.imshow(single_rotated_plane(img, a*math.pi, 0, a*math.pi, 0, 0, 10, interpolation = 'linear', load = False)[0], cmap = 'gray')\n",
    "    plt.show()\n",
    "    a += 0.1\n",
    "    "
   ]
  },
  {
   "cell_type": "code",
   "execution_count": null,
   "metadata": {},
   "outputs": [],
   "source": []
  }
 ],
 "metadata": {
  "kernelspec": {
   "display_name": "Python 3",
   "language": "python",
   "name": "python3"
  },
  "language_info": {
   "codemirror_mode": {
    "name": "ipython",
    "version": 3
   },
   "file_extension": ".py",
   "mimetype": "text/x-python",
   "name": "python",
   "nbconvert_exporter": "python",
   "pygments_lexer": "ipython3",
   "version": "3.8.10"
  }
 },
 "nbformat": 4,
 "nbformat_minor": 2
}
