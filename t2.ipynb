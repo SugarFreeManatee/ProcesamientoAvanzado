{
 "cells": [
  {
   "cell_type": "code",
   "execution_count": 1,
   "metadata": {},
   "outputs": [],
   "source": [
    "import numpy as np\n",
    "import tifffile\n",
    "import matplotlib.pyplot as plt\n",
    "import cv2\n",
    "import math\n",
    "from tqdm import tqdm\n",
    "from skimage.transform import resize\n",
    "from scipy.interpolate import interpn\n",
    "import pickle as pkl"
   ]
  },
  {
   "cell_type": "code",
   "execution_count": 2,
   "metadata": {},
   "outputs": [],
   "source": [
    "img = np.rollaxis(np.array(tifffile.imread('Low concentration 1.tiff')), 0, 3)"
   ]
  },
  {
   "cell_type": "code",
   "execution_count": 3,
   "metadata": {},
   "outputs": [],
   "source": [
    "def preprocess(img, n):\n",
    "    N = math.floor(0.25 * img.shape[2] / (0.12*n))\n",
    "    new_img = np.zeros((img.shape[0], img.shape[1], N))\n",
    "    current = 0\n",
    "    for k in range(N):\n",
    "        interp = round(current/0.25)\n",
    "        new_img[:,:,k] = img[:,:,interp]\n",
    "        current += 0.12\n",
    "    \n",
    "    new_img = resize(new_img, (new_img.shape[0]//n,new_img.shape[1]//n,new_img.shape[2]))\n",
    "    return new_img\n",
    "    "
   ]
  },
  {
   "cell_type": "code",
   "execution_count": 4,
   "metadata": {},
   "outputs": [],
   "source": [
    "def trilinear_interpolate(x,y,z,x0,x1,y0,y1,z0,z1,c000,c100,c010,c110,c001,c101,c011,c111):\n",
    "    d = (x0-x1)*(y0-y1)*(z0-z1) + 0.00001\n",
    "    \n",
    "    a0 = (-c000 *x1*y1*z1 +c001*x1*y1*z0+c010*x1*y0*z1-c011*x1*y0*z0)/d\\\n",
    "        + (c100*x0*y1*z1-c101*x0*y1*z0-c110*x0*y0*z1+c111*x0*y0*z0)/d\n",
    "    a1 = (c000*y1*z1-c001*y1*z0-c010*y0*z1+c011*y0*z0)/d \\\n",
    "        + (-c100*x0*z1+c101*x0*z0+c110*x0*z1-c111*x0*z0)/d\n",
    "    a2 = (c000*x1*z1-c001*x1*z0-c010*x1*z1+c011*x1*z0)/d \\\n",
    "        + (-c100*x0*z0+c101*x0*z0+c110*x0*z1-c111*x0*z0)/d \n",
    "    a3 = (c000*x1*y1 - c001*x1*y1 - c010*x1*y0 + c011*x1*y0)/d \\\n",
    "        + (-c100*x0*y1+c101*x0*y1+c110*x0*y0-c111*x0*y0)/d\n",
    "    a4 = (-c000*z1+c001*z0+c010*z1-c011*z0+c100*z1-c101*z0-c110*z1+c111*z0)/d\n",
    "    a5 = (-c000*y1+c001*y1+c010*y0-c011*y0+c100*y1-c101*y1-c110*y0+c111*y0)/d\n",
    "    a6 = (-c000*x1+c001*x1+c010*x1-c011*x1+c100*x0-c101*x0-c110*x0+c111*x0)/d\n",
    "    a7 = (c000-c001-c010+c011-c100+c101+c110-c111)/d                                                                 \n",
    "    return a0+a1*x+a2*y+a3*z+a4*x*y+a5*x*z+a6*y*z+a7*x*y*z"
   ]
  },
  {
   "cell_type": "code",
   "execution_count": 5,
   "metadata": {},
   "outputs": [],
   "source": [
    "img2 = preprocess(img,1)\n",
    "del img"
   ]
  },
  {
   "cell_type": "code",
   "execution_count": 6,
   "metadata": {},
   "outputs": [
    {
     "name": "stdout",
     "output_type": "stream",
     "text": [
      "(764, 794, 102)\n"
     ]
    }
   ],
   "source": [
    "print(img2.shape)"
   ]
  },
  {
   "cell_type": "code",
   "execution_count": null,
   "metadata": {},
   "outputs": [],
   "source": [
    "for i in range(img2.shape[2]):\n",
    "    plt.imshow(img2[:,:,i], cmap='gray')\n",
    "    plt.show()\n"
   ]
  },
  {
   "cell_type": "code",
   "execution_count": 19,
   "metadata": {},
   "outputs": [
    {
     "data": {
      "image/png": "[encoded data removed]",
      "text/plain": [
       "<Figure size 432x288 with 1 Axes>"
      ]
     },
     "metadata": {
      "needs_background": "light"
     },
     "output_type": "display_data"
    }
   ],
   "source": [
    "plt.imshow(img2[:,:,50], cmap='gray')\n",
    "plt.show()"
   ]
  },
  {
   "cell_type": "code",
   "execution_count": 7,
   "metadata": {},
   "outputs": [],
   "source": [
    "def rotation_matrix(a, b, g, x_t, y_t, z_t):\n",
    "    A = np.array([[np.cos(a)*np.cos(b), np.cos(a)*np.sin(b)*np.sin(g)-np.sin(a)*np.cos(g),np.cos(a)*np.sin(b)*np.cos(g)+np.sin(a)*np.sin(g), x_t],\n",
    "                  [np.sin(a)*np.cos(b), np.sin(a)*np.sin(b)*np.sin(g)+np.cos(a)*np.cos(g),np.sin(a)*np.sin(b)*np.cos(g)-np.cos(a)*np.sin(g), y_t],\n",
    "                  [-np.sin(b), np.cos(b)*np.sin(g), np.cos(b)*np.cos(g), z_t],\n",
    "                  [0, 0, 0, 1]])\n",
    "    return np.linalg.inv(A)"
   ]
  },
  {
   "cell_type": "code",
   "execution_count": 8,
   "metadata": {},
   "outputs": [],
   "source": [
    "def rotated_plane(img, a, b, g, x_t, y_t, z_t, interpolation = 'nearest', load = True):\n",
    "    rot = rotation_matrix(a, b, g, x_t, y_t, z_t)\n",
    "\n",
    "    count = 0\n",
    "    p_x, p_y, p_z = img.shape[0]//2, img.shape[1]//2, img.shape[2]//2\n",
    "    \n",
    "    if not load:\n",
    "        indices = np.zeros((4, img.shape[0]*img.shape[1]*img.shape[2]), dtype=np.float16)\n",
    "        for i in tqdm(range(img.shape[0])):\n",
    "            for j in range(img.shape[1]):\n",
    "                for k in range(img.shape[2]):\n",
    "                    indices[:, count] = [i-p_x, j-p_y, k-p_z, 1]\n",
    "                    count += 1\n",
    "        with open('indices.pkl', 'wb') as file:\n",
    "            pkl.dump(indices, file)\n",
    "    else:\n",
    "        with open('indices.pkl', 'rb') as file:\n",
    "            indices = pkl.load(file)\n",
    "    indices = rot @ indices\n",
    "    indices = indices + np.array([[p_x, p_y, p_z, 0]]).T\n",
    "    del rot \n",
    "    indices = indices.T[:, 0:3]\n",
    "    \n",
    "    \n",
    "    return interpn((np.arange(img.shape[0]),np.arange(img.shape[1]),np.arange(img.shape[2])), img, indices, \n",
    "    method= interpolation, bounds_error=False, fill_value=0).reshape(img2.shape)\n",
    "                    \n",
    "                "
   ]
  },
  {
   "cell_type": "code",
   "execution_count": 9,
   "metadata": {},
   "outputs": [
    {
     "name": "stderr",
     "output_type": "stream",
     "text": [
      "100%|██████████| 764/764 [01:13<00:00, 10.42it/s]\n"
     ]
    },
    {
     "ename": "",
     "evalue": "",
     "output_type": "error",
     "traceback": [
      "\u001b[1;31mThe Kernel crashed while executing code in the the current cell or a previous cell. Please review the code in the cell(s) to identify a possible cause of the failure. Click <a href='https://aka.ms/vscodeJupyterKernelCrash'>here</a> for more info. View Jupyter <a href='command:jupyter.viewOutput'>log</a> for further details."
     ]
    }
   ],
   "source": [
    "new = rotated_plane(img2,math.pi, 0.3, 0.2, 0, 0, 0, 'linear', False)"
   ]
  },
  {
   "cell_type": "code",
   "execution_count": 29,
   "metadata": {},
   "outputs": [
    {
     "data": {
      "text/plain": [
       "<matplotlib.image.AxesImage at 0x7f95e50c6220>"
      ]
     },
     "execution_count": 29,
     "metadata": {},
     "output_type": "execute_result"
    },
    {
     "data": {
      "image/png": "[encoded data removed]",
      "text/plain": [
       "<Figure size 432x288 with 1 Axes>"
      ]
     },
     "metadata": {
      "needs_background": "light"
     },
     "output_type": "display_data"
    }
   ],
   "source": [
    "plt.imshow(new[:,:,50], cmap='gray')"
   ]
  },
  {
   "cell_type": "code",
   "execution_count": null,
   "metadata": {},
   "outputs": [],
   "source": [
    "new = new[new>0.5]*1\n"
   ]
  },
  {
   "cell_type": "code",
   "execution_count": null,
   "metadata": {},
   "outputs": [],
   "source": [
    "print(new)"
   ]
  },
  {
   "cell_type": "code",
   "execution_count": null,
   "metadata": {},
   "outputs": [],
   "source": []
  },
  {
   "cell_type": "code",
   "execution_count": null,
   "metadata": {},
   "outputs": [],
   "source": [
    "plt.imshow(new[:,:,50], cmap='gray')\n",
    "plt.show()"
   ]
  },
  {
   "cell_type": "code",
   "execution_count": null,
   "metadata": {},
   "outputs": [],
   "source": [
    "rot = rotation_matrix(0, 0, 0, 0, 0, 0)\n",
    "indexes = np.zeros((4, img2.shape[0]*img2.shape[1]*img2.shape[2]), dtype=np.int16)\n",
    "values = np.zeros((img2.shape[0]*img2.shape[1]*img2.shape[2]))\n",
    "count = 0\n",
    "for i in tqdm(range(img2.shape[0])):\n",
    "    for j in range(img2.shape[1]):\n",
    "        for k in range(img2.shape[2]):\n",
    "            indexes[:, count] = [i,j,k,1]\n",
    "            values[count] = img2[i,j,k]\n",
    "            count += 1\n",
    "indexes2 = rot @ indexes\n",
    "\n",
    "\n",
    "\n",
    "\n"
   ]
  },
  {
   "cell_type": "code",
   "execution_count": null,
   "metadata": {},
   "outputs": [],
   "source": [
    "indexes2 = indexes2.T[:, 0:3]\n",
    "print(indexes2.shape)"
   ]
  },
  {
   "cell_type": "code",
   "execution_count": null,
   "metadata": {},
   "outputs": [],
   "source": [
    "new_img = np.zeros(img2.shape)\n",
    "x = np.arange(120)\n",
    "y = np.arange(120)\n",
    "z = np.arange(120)\n",
    "points = (x,y,z)\n",
    "values = img2\n",
    "\n",
    "new_img = interpn(points, values, indexes2, method='nearest', bounds_error=False, fill_value=0).reshape(img2.shape)\n",
    "\n",
    "\n"
   ]
  },
  {
   "cell_type": "code",
   "execution_count": null,
   "metadata": {},
   "outputs": [],
   "source": [
    "print(new_img.shape)"
   ]
  },
  {
   "cell_type": "code",
   "execution_count": null,
   "metadata": {},
   "outputs": [],
   "source": [
    "plt.imshow(new_img[:,:,50], cmap='gray')"
   ]
  },
  {
   "cell_type": "code",
   "execution_count": null,
   "metadata": {},
   "outputs": [],
   "source": [
    "rot = rotation_matrix(math.pi, 0.3, 0.2, 0, 0, 0)\n",
    "\n",
    "with open('indices.pkl', 'rb') as file:\n",
    "    indices = pkl.load(file)\n",
    "indices2 = rot @ indices\n",
    "\n",
    "interpolated = interpn(indices[:,:-1], img2, indices2, method='nearest', bounds_error=False, fill_value=0)"
   ]
  },
  {
   "cell_type": "code",
   "execution_count": null,
   "metadata": {},
   "outputs": [],
   "source": [
    "ind = np.indices(img2)\n"
   ]
  },
  {
   "cell_type": "code",
   "execution_count": null,
   "metadata": {},
   "outputs": [],
   "source": [
    "\n",
    "\n",
    "            "
   ]
  },
  {
   "cell_type": "code",
   "execution_count": null,
   "metadata": {},
   "outputs": [],
   "source": [
    "print(img2.shape)"
   ]
  },
  {
   "cell_type": "code",
   "execution_count": null,
   "metadata": {},
   "outputs": [],
   "source": [
    "plt.imshow(img2[:,:,50], cmap='gray')"
   ]
  },
  {
   "cell_type": "code",
   "execution_count": null,
   "metadata": {},
   "outputs": [],
   "source": [
    "\n",
    "\n",
    "# interpolated = interpn(A, img2, indexes2[:-1,:], method='linear', bounds_error=False, fill_value=0)"
   ]
  },
  {
   "cell_type": "code",
   "execution_count": null,
   "metadata": {},
   "outputs": [],
   "source": [
    "rot = rotation_matrix(0, 0, 0, 0, 0, 0)\n",
    "indexes2 = rot @ indexes\n",
    "x = np.linspace(0, 120, 120)\n",
    "y = np.linspace(0, 120, 120)\n",
    "z = np.linspace(0, 120, 120)\n",
    "points = (x,y,z)\n",
    "interpolated = interpn(points, img2, indexes2[:-1,:].T, method='nearest', bounds_error=False, fill_value=1)\n"
   ]
  },
  {
   "cell_type": "code",
   "execution_count": null,
   "metadata": {},
   "outputs": [],
   "source": [
    "new_img = np.zeros(img2.shape)\n",
    "counter = 0\n",
    "for i in tqdm(range(img2.shape[0])):\n",
    "    for j in range(img2.shape[1]):\n",
    "        for k in range(img2.shape[2]):\n",
    "            new_img[i,j,k] = interpolated[counter]\n",
    "            counter += 1"
   ]
  },
  {
   "cell_type": "code",
   "execution_count": null,
   "metadata": {},
   "outputs": [],
   "source": [
    "print(new_img.shape)"
   ]
  },
  {
   "cell_type": "code",
   "execution_count": null,
   "metadata": {},
   "outputs": [],
   "source": [
    "\n",
    "plt.imshow(new_img[:,:,100], cmap='gray')\n",
    "plt.show()"
   ]
  },
  {
   "cell_type": "code",
   "execution_count": null,
   "metadata": {},
   "outputs": [],
   "source": [
    "plt.imshow(img2[:,:,100], cmap='gray')\n",
    "plt.show()"
   ]
  },
  {
   "cell_type": "code",
   "execution_count": null,
   "metadata": {},
   "outputs": [],
   "source": [
    "print(indexes.shape)\n",
    "print(indexes2.shape)"
   ]
  },
  {
   "cell_type": "code",
   "execution_count": null,
   "metadata": {},
   "outputs": [],
   "source": [
    "print(img2.shape)"
   ]
  },
  {
   "cell_type": "code",
   "execution_count": null,
   "metadata": {},
   "outputs": [],
   "source": []
  }
 ],
 "metadata": {
  "kernelspec": {
   "display_name": "Python 3 (ipykernel)",
   "language": "python",
   "name": "python3"
  },
  "language_info": {
   "codemirror_mode": {
    "name": "ipython",
    "version": 3
   },
   "file_extension": ".py",
   "mimetype": "text/x-python",
   "name": "python",
   "nbconvert_exporter": "python",
   "pygments_lexer": "ipython3",
   "version": "3.8.10"
  }
 },
 "nbformat": 4,
 "nbformat_minor": 2
}
